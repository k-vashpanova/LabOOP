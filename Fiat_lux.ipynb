{
  "nbformat": 4,
  "nbformat_minor": 0,
  "metadata": {
    "colab": {
      "provenance": []
    },
    "kernelspec": {
      "name": "python3",
      "display_name": "Python 3"
    },
    "language_info": {
      "name": "python"
    }
  },
  "cells": [
    {
      "cell_type": "markdown",
      "source": [
        "Засидевшись допоздна, студенты с кафедры электротехники заметили, что из-за перегоревших ламп в некоторых кабинетах воцарилась кромешная тьма. К счастью, у них в распоряжении есть целая коробка с различными лампами, каждая со своей мощностью и силой света. Чтобы студентам не пришлось перебирать все лампы, разработайте для них программу, позволяющую рассчитать освещённость произвольной точки кабинета. Считать источники света точечными и располагающимися в узлах прямоугольной сетки с шагом 1 метр. Естественным и отражённым светом пренебречь.\n",
        "1. Лампа: излучаемая при включении сила света, потребляемая мощность, включение/выключение.\n",
        "2. Светодиодная лампа: максимальные сила света и мощность для красного, зелёного и синего светодиода, их интенсивность, метод расчёта текущей силы света пропорциональной интенсивности красного, зелёного и синего светодиода.\n",
        "3. Матрица источников света: источники света, метод расчёта освещённости в произвольных координатах (x, y, z) и мощности электропотребления.\n"
      ],
      "metadata": {
        "id": "aOypMK5yzPzu"
      }
    },
    {
      "cell_type": "code",
      "source": [
        "import numpy as np\n",
        "from abc import ABC, abstractmethod"
      ],
      "metadata": {
        "id": "h1j_5CfBJPYq"
      },
      "execution_count": 149,
      "outputs": []
    },
    {
      "cell_type": "code",
      "source": [
        "class Lighting(ABC):\n",
        "  '''\n",
        "  Общий абстрактный класс для осветительных приборов\n",
        "  '''\n",
        "\n",
        "  __I: float\n",
        "  __V: float\n",
        "\n",
        "  def __init__(self, V, I):\n",
        "    self.__V = float(V)\n",
        "    self.__I = float(I)\n",
        "\n",
        "  @abstractmethod\n",
        "  def __call__(self):\n",
        "    pass\n",
        "\n",
        "  @abstractmethod\n",
        "  def V(self):\n",
        "    pass\n",
        "\n",
        "  @abstractmethod\n",
        "  def I(self):\n",
        "    pass\n",
        "\n",
        "\n",
        "class Lamp(Lighting):\n",
        "  '''\n",
        "  Обычная лампочка. На вход подаются аргументы: V - мощность, I - сила света, mode - включена или нет (True/False)\n",
        "  '''\n",
        "\n",
        "  __mode__: bool\n",
        "  serial_number: int = 1\n",
        "\n",
        "  def __init__(self, V=100., I=100., mode=True):\n",
        "    super().__init__(V, I)\n",
        "    self.__mode__ = mode\n",
        "    self.__num = str(Lamp.serial_number)\n",
        "    Lamp.serial_number+=1\n",
        "\n",
        "  def __call__(self, state):\n",
        "    '''\n",
        "    Включение (on) и выключение (off)\n",
        "    '''\n",
        "    if state.lower() == 'on':\n",
        "      self.__mode__ = True\n",
        "      print(\"Now it's turned on\")\n",
        "    elif state.lower() == 'off':\n",
        "      self.__mode__ = False\n",
        "      print(\"Now it's turned off\")\n",
        "\n",
        "  def __bool__(self):\n",
        "    return self.__mode__\n",
        "\n",
        "  def __repr__(self):\n",
        "    return self.__class__.__name__+self.__num\n",
        "\n",
        "  @property\n",
        "  def V(self):\n",
        "    '''\n",
        "    Потребляемая мощность\n",
        "    '''\n",
        "    return self._Lighting__V\n",
        "\n",
        "  @property\n",
        "  def I(self):\n",
        "    '''\n",
        "    Сила света\n",
        "    '''\n",
        "    return self._Lighting__I\n",
        "\n",
        "  @property\n",
        "  def mode(self):\n",
        "    if self.__mode__:\n",
        "      return 'on'\n",
        "    else:\n",
        "      return 'off'\n",
        "\n",
        "\n",
        "class Diod(Lighting):\n",
        "  '''\n",
        "  Светодиод. На вход подаются: V - мощность, I - сила света, intensity - интенсивность\n",
        "  '''\n",
        "\n",
        "  __intensity__: float\n",
        "\n",
        "  def __init__(self, V, I, intensity=1.0):\n",
        "    super().__init__(V, I)\n",
        "    self.__intensity__ = intensity\n",
        "\n",
        "  def __call__(self, intensity):\n",
        "    '''\n",
        "    Изменение интенсивности свечения\n",
        "    '''\n",
        "    self.__intensity__ = float(intensity)\n",
        "    print('Intensity set to', intensity)\n",
        "\n",
        "  @property\n",
        "  def intensity(self):\n",
        "    return self.__intensity__\n",
        "\n",
        "  @property\n",
        "  def V(self):\n",
        "    '''\n",
        "    Текущая потребляемая мощность\n",
        "    '''\n",
        "    return (self._Lighting__V * self.__intensity__)\n",
        "\n",
        "  @property\n",
        "  def maxV(self):\n",
        "    '''\n",
        "    Максимально возможная потребляемая мощность\n",
        "    '''\n",
        "    return self._Lighting__V\n",
        "\n",
        "  @property\n",
        "  def I(self):\n",
        "    '''\n",
        "    Сила света\n",
        "    '''\n",
        "    return (self._Lighting__I * self.__intensity__)\n",
        "\n",
        "  @property\n",
        "  def maxI(self):\n",
        "    '''\n",
        "    Максимальная сила света\n",
        "    '''\n",
        "    return (self._Lighting__I)\n",
        "\n",
        "\n",
        "class LED(Lamp):\n",
        "  '''\n",
        "  Светодиодная лампочка. На вход подаются светодиоды (r - красный, g - зелёный, b - синий) и mode - включена она или нет (True/False)\n",
        "  '''\n",
        "\n",
        "  red: Diod\n",
        "  green: Diod\n",
        "  blue: Diod\n",
        "\n",
        "  def __init__(self, r = Diod(0.5, 0.2), g = Diod(0.5, 1.), b = Diod(0.5, 0.2), mode=True):\n",
        "    self.red = r\n",
        "    self.green = g\n",
        "    self.blue = b\n",
        "    super().__init__(V = self.V, I = self.I, mode = mode)\n",
        "\n",
        "  @property\n",
        "  def I(self):\n",
        "    '''\n",
        "    Текущая сила света\n",
        "    '''\n",
        "    return self.red.I+self.blue.I+self.green.I\n",
        "\n",
        "  @property\n",
        "  def V(self):\n",
        "    '''\n",
        "    Текущая потребляемая мощность\n",
        "    '''\n",
        "    return self.red.V+self.blue.V+self.green.V\n",
        "\n",
        "  @property\n",
        "  def maxV(self):\n",
        "    '''\n",
        "    Максимально возможная потребляемая мощность\n",
        "    '''\n",
        "    return self.red.maxV+self.blue.maxV+self.green.maxV\n",
        "\n",
        "  @property\n",
        "  def maxI(self):\n",
        "    '''\n",
        "    Максимально возможная сила света\n",
        "    '''\n",
        "    return self.red.maxI+self.blue.maxI+self.green.maxI"
      ],
      "metadata": {
        "id": "Nuz7mwDnFXuW"
      },
      "execution_count": 150,
      "outputs": []
    },
    {
      "cell_type": "code",
      "source": [
        "class Matrix:\n",
        "  '''\n",
        "  Матрица света. На вход:\n",
        "  length, width - размеры комнаты вдоль и поперёк,\n",
        "  height - высота потолков,\n",
        "  lights - словарь источников света (вида объект-лампочка: её координаты)\n",
        "\n",
        "  Пример lights: {Lamp(): (1, 1),\n",
        "                  LED(r=Diod(2, 0.8)): (3, 3),\n",
        "                  Lamp(220, 250, False): (0, 4)}\n",
        "\n",
        "  Сетка расположения источников света - с шагом в один метр,\n",
        "  начиная с нулевого метра от стены\n",
        "  '''\n",
        "  __ox: int\n",
        "  __oy: int\n",
        "  __oz: int\n",
        "  lights: dict\n",
        "\n",
        "  def __init__(self, length, width, height, lights):\n",
        "    self.__ox = length\n",
        "    self.__oy = width\n",
        "    self.__oz = height\n",
        "    self.lights = {}\n",
        "\n",
        "    self.__map__ = np.array([[None]*(self.__oy+1)]*(self.__ox+1))\n",
        "    self+lights\n",
        "\n",
        "  def map(self):\n",
        "    '''\n",
        "    Карта расположения источников света\n",
        "    '''\n",
        "    for x in self.__map__:\n",
        "      print(*x, sep='\\t')\n",
        "\n",
        "  def brightness(self, x, y, z):\n",
        "    '''\n",
        "    Рассчёт освещённости в точке (в канделах) по координатам\n",
        "    '''\n",
        "    bright = 0\n",
        "    for l in self.lights.keys():\n",
        "      if l:\n",
        "        bright += l.I * (self.__oz - z) / (np.sqrt((self.lights[l][0]-x)**2+(self.lights[l][1]-y)**2+(self.__oz-z)**2))**3\n",
        "    print('%.2f cd' %bright)\n",
        "\n",
        "  @property\n",
        "  def V(self):\n",
        "    '''\n",
        "    Мощность, затрачиваемая на комнату в данный момент\n",
        "    (учитывается мощность только включённых ламп)\n",
        "    '''\n",
        "    v = 0\n",
        "    for l in self.lights.keys():\n",
        "      v += l.V\n",
        "    return v\n",
        "\n",
        "  def __sub__(self, coord):\n",
        "    '''\n",
        "    Удаление источника света в данной точке\n",
        "    '''\n",
        "    del self.lights[self.__map__[coord[0]][coord[1]]]\n",
        "    self.__map__[coord[0]][coord[1]] = None\n",
        "\n",
        "  def __add__(self, light):\n",
        "    '''\n",
        "    Добавление или перестановка источников света\n",
        "    (принимает на вход словарь вида объект-лампочка: её координаты)\n",
        "    '''\n",
        "    for l in light.keys():\n",
        "      if l in self.lights:\n",
        "        self-(self.lights[l][0], self.lights[l][1])\n",
        "      if self.__map__[light[l][0]][light[l][1]] is not None:\n",
        "        del self.lights[self.__map__[light[l][0]][light[l][1]]]\n",
        "      self.__map__[light[l][0]][light[l][1]] = l\n",
        "      self.lights[l] = light[l]\n",
        "\n",
        "  def __call__(self, x, y):\n",
        "    '''\n",
        "    Обращение к источнику света, находящемуся в данной точке\n",
        "    '''\n",
        "    if self.__map__[x][y] is None:\n",
        "      print('No lamp here')\n",
        "    return self.__map__[x][y]"
      ],
      "metadata": {
        "id": "t_yocuyez8-_"
      },
      "execution_count": 151,
      "outputs": []
    },
    {
      "cell_type": "markdown",
      "source": [
        "Заведём набор лампочек и расположим его в комнате"
      ],
      "metadata": {
        "id": "dLPsqDa8x5nN"
      }
    },
    {
      "cell_type": "code",
      "source": [
        "lls = {Lamp(): (1, 1),\n",
        "       LED(r=Diod(2, 0.8)): (3, 3),\n",
        "       Lamp(220, 250, False): (0, 4)}\n",
        "\n",
        "m = Matrix(3, 4, 2, lls)"
      ],
      "metadata": {
        "id": "TikOvsNdLiYi"
      },
      "execution_count": 152,
      "outputs": []
    },
    {
      "cell_type": "markdown",
      "source": [
        "Сейчас комната выглядит так:"
      ],
      "metadata": {
        "id": "pUHyGJq9yCGJ"
      }
    },
    {
      "cell_type": "code",
      "source": [
        "m.map()"
      ],
      "metadata": {
        "colab": {
          "base_uri": "https://localhost:8080/"
        },
        "id": "TH4Tj54OvA7L",
        "outputId": "4af55385-fb88-4f7e-a4eb-1c19fa18e47c"
      },
      "execution_count": 153,
      "outputs": [
        {
          "output_type": "stream",
          "name": "stdout",
          "text": [
            "None\tNone\tNone\tNone\tLamp3\n",
            "None\tLamp1\tNone\tNone\tNone\n",
            "None\tNone\tNone\tNone\tNone\n",
            "None\tNone\tNone\tLED2\tNone\n"
          ]
        }
      ]
    },
    {
      "cell_type": "markdown",
      "source": [
        "Лампочка номер 3 сейчас выключена:"
      ],
      "metadata": {
        "id": "HY_OcGTlyVa_"
      }
    },
    {
      "cell_type": "code",
      "source": [
        "m(0, 4).mode"
      ],
      "metadata": {
        "colab": {
          "base_uri": "https://localhost:8080/",
          "height": 36
        },
        "id": "xWIIoXD51sf4",
        "outputId": "5d344b56-7fa5-41ee-b0b9-01cd95e37ca6"
      },
      "execution_count": 154,
      "outputs": [
        {
          "output_type": "execute_result",
          "data": {
            "text/plain": [
              "'off'"
            ],
            "application/vnd.google.colaboratory.intrinsic+json": {
              "type": "string"
            }
          },
          "metadata": {},
          "execution_count": 154
        }
      ]
    },
    {
      "cell_type": "markdown",
      "source": [
        "Поэтому освещение в комнате потребляет следующую мощность:"
      ],
      "metadata": {
        "id": "olbOQZT_ycIW"
      }
    },
    {
      "cell_type": "code",
      "source": [
        "m.V"
      ],
      "metadata": {
        "colab": {
          "base_uri": "https://localhost:8080/"
        },
        "id": "FpIHvGNi-TSA",
        "outputId": "2fbdbcee-527c-4aeb-d6b0-e3ef0f6bfd29"
      },
      "execution_count": 155,
      "outputs": [
        {
          "output_type": "execute_result",
          "data": {
            "text/plain": [
              "323.0"
            ]
          },
          "metadata": {},
          "execution_count": 155
        }
      ]
    },
    {
      "cell_type": "markdown",
      "source": [
        "В таком случае освещённость пола в дальнем углу составляет:"
      ],
      "metadata": {
        "id": "kvDHtXv7yypt"
      }
    },
    {
      "cell_type": "code",
      "source": [
        "m.brightness(0, 0, 0)"
      ],
      "metadata": {
        "colab": {
          "base_uri": "https://localhost:8080/"
        },
        "id": "KQEYAphWY-e4",
        "outputId": "0ad76e06-9985-496a-b1ad-c520faf3b83d"
      },
      "execution_count": 156,
      "outputs": [
        {
          "output_type": "stream",
          "name": "stdout",
          "text": [
            "13.65 cd\n"
          ]
        }
      ]
    },
    {
      "cell_type": "markdown",
      "source": [
        "Если включить лампочку номер три, станет светлее:"
      ],
      "metadata": {
        "id": "Dqo-z6Va14M6"
      }
    },
    {
      "cell_type": "code",
      "source": [
        "m(0,4)('on')\n",
        "m.brightness(0, 0, 0)"
      ],
      "metadata": {
        "colab": {
          "base_uri": "https://localhost:8080/"
        },
        "id": "LKfnw95Xz3-n",
        "outputId": "c0b0ae70-61ff-4aed-a059-c7d0bb2cbb16"
      },
      "execution_count": 157,
      "outputs": [
        {
          "output_type": "stream",
          "name": "stdout",
          "text": [
            "Now it's turned on\n",
            "19.24 cd\n"
          ]
        }
      ]
    },
    {
      "cell_type": "markdown",
      "source": [
        "Поменяем набор источников света\n",
        "\n",
        "Переставим светодиодную лампочку ближе к нашему углу, заменим лампочку номер один на новую светодиодную, добавим лампочку в самый угол, уберём лампочку номер 3"
      ],
      "metadata": {
        "id": "eKjwJgCSzB3R"
      }
    },
    {
      "cell_type": "code",
      "source": [
        "m+{m(3,3):(0,1)}"
      ],
      "metadata": {
        "id": "IPdm_JJ_0UgC"
      },
      "execution_count": 158,
      "outputs": []
    },
    {
      "cell_type": "code",
      "source": [
        "m+{LED():(1,1)}"
      ],
      "metadata": {
        "id": "UNl0LID1Faab"
      },
      "execution_count": 159,
      "outputs": []
    },
    {
      "cell_type": "code",
      "source": [
        "m+{Lamp(220, 400):(0,0)}"
      ],
      "metadata": {
        "id": "0kD7Os7y2QbB"
      },
      "execution_count": 160,
      "outputs": []
    },
    {
      "cell_type": "code",
      "source": [
        "m-(0, 4)"
      ],
      "metadata": {
        "id": "H7eZ8EKWwesN"
      },
      "execution_count": 161,
      "outputs": []
    },
    {
      "cell_type": "code",
      "source": [
        "m.map()"
      ],
      "metadata": {
        "colab": {
          "base_uri": "https://localhost:8080/"
        },
        "id": "RbP5h8iDwiKG",
        "outputId": "2ad94ff1-66bb-4f61-91c0-53b2fe669c68"
      },
      "execution_count": 162,
      "outputs": [
        {
          "output_type": "stream",
          "name": "stdout",
          "text": [
            "Lamp5\tLED2\tNone\tNone\tNone\n",
            "None\tLED4\tNone\tNone\tNone\n",
            "None\tNone\tNone\tNone\tNone\n",
            "None\tNone\tNone\tNone\tNone\n"
          ]
        }
      ]
    },
    {
      "cell_type": "markdown",
      "source": [
        "Теперь в нашем углу светлее и мощности на освещение комнаты тратится меньше"
      ],
      "metadata": {
        "id": "V6o196PJ2e7t"
      }
    },
    {
      "cell_type": "code",
      "source": [
        "m.brightness(0, 0, 0)\n",
        "m.V"
      ],
      "metadata": {
        "colab": {
          "base_uri": "https://localhost:8080/"
        },
        "id": "dQifv4Ngz0xI",
        "outputId": "95d240b7-6dee-433e-cfbf-979ba003987f"
      },
      "execution_count": 163,
      "outputs": [
        {
          "output_type": "stream",
          "name": "stdout",
          "text": [
            "100.55 cd\n"
          ]
        },
        {
          "output_type": "execute_result",
          "data": {
            "text/plain": [
              "224.5"
            ]
          },
          "metadata": {},
          "execution_count": 163
        }
      ]
    },
    {
      "cell_type": "code",
      "source": [
        "m.lights"
      ],
      "metadata": {
        "colab": {
          "base_uri": "https://localhost:8080/"
        },
        "id": "aldZpuvm3wkx",
        "outputId": "7f42a5cc-de84-4605-8b02-43e6cd878fa9"
      },
      "execution_count": 164,
      "outputs": [
        {
          "output_type": "execute_result",
          "data": {
            "text/plain": [
              "{LED2: (0, 1), LED4: (1, 1), Lamp5: (0, 0)}"
            ]
          },
          "metadata": {},
          "execution_count": 164
        }
      ]
    }
  ]
}
